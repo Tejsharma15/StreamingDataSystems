{
 "cells": [
  {
   "cell_type": "code",
   "execution_count": 8,
   "metadata": {},
   "outputs": [
    {
     "ename": "KeyboardInterrupt",
     "evalue": "",
     "output_type": "error",
     "traceback": [
      "\u001b[0;31m---------------------------------------------------------------------------\u001b[0m",
      "\u001b[0;31mKeyboardInterrupt\u001b[0m                         Traceback (most recent call last)",
      "Cell \u001b[0;32mIn[8], line 13\u001b[0m\n\u001b[1;32m     10\u001b[0m \u001b[39mwith\u001b[39;00m \u001b[39mopen\u001b[39m(file_path, \u001b[39m\"\u001b[39m\u001b[39mr+\u001b[39m\u001b[39m\"\u001b[39m) \u001b[39mas\u001b[39;00m file:\n\u001b[1;32m     11\u001b[0m     \u001b[39m# Read the file line by line\u001b[39;00m\n\u001b[1;32m     12\u001b[0m     found \u001b[39m=\u001b[39m \u001b[39mFalse\u001b[39;00m\n\u001b[0;32m---> 13\u001b[0m     \u001b[39mfor\u001b[39;00m line \u001b[39min\u001b[39;00m file:\n\u001b[1;32m     14\u001b[0m         \u001b[39m# Check if the word is present in the current line\u001b[39;00m\n\u001b[1;32m     15\u001b[0m         \u001b[39mif\u001b[39;00m word_to_check \u001b[39min\u001b[39;00m line:\n\u001b[1;32m     16\u001b[0m             found \u001b[39m=\u001b[39m \u001b[39mTrue\u001b[39;00m\n",
      "\u001b[0;31mKeyboardInterrupt\u001b[0m: "
     ]
    }
   ],
   "source": [
    "with open(\"streaming_words.csv\", \"r\") as input:\n",
    "    for line in input:\n",
    "        words = line.split()\n",
    "        for word in words:\n",
    "\n",
    "            word_to_check = word\n",
    "            file_path = \"temp.txt\"\n",
    "\n",
    "            # Open the file for reading\n",
    "            with open(file_path, \"r+\") as file:\n",
    "                # Read the file line by line\n",
    "                found = False\n",
    "                for line in file:\n",
    "                    # Check if the word is present in the current line\n",
    "                    if word_to_check in line:\n",
    "                        found = True\n",
    "                        break\n",
    "                if found == False:\n",
    "                    file.write(word_to_check + \" \")"
   ]
  },
  {
   "cell_type": "code",
   "execution_count": null,
   "metadata": {},
   "outputs": [],
   "source": []
  }
 ],
 "metadata": {
  "kernelspec": {
   "display_name": "env",
   "language": "python",
   "name": "python3"
  },
  "language_info": {
   "codemirror_mode": {
    "name": "ipython",
    "version": 3
   },
   "file_extension": ".py",
   "mimetype": "text/x-python",
   "name": "python",
   "nbconvert_exporter": "python",
   "pygments_lexer": "ipython3",
   "version": "3.8.10"
  },
  "orig_nbformat": 4
 },
 "nbformat": 4,
 "nbformat_minor": 2
}
